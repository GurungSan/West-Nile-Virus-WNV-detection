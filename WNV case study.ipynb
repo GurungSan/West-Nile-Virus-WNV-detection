{
 "cells": [
  {
   "cell_type": "markdown",
   "id": "281eaf39",
   "metadata": {},
   "source": [
    "# West Nile Virus(WNV)detection "
   ]
  },
  {
   "cell_type": "code",
   "execution_count": 154,
   "id": "43845812",
   "metadata": {},
   "outputs": [],
   "source": [
    "import pandas as pd\n",
    "import numpy as np\n",
    "import seaborn as sns\n",
    "import matplotlib.pyplot as plt\n",
    "from datetime import datetime, timedelta\n",
    "from sklearn.linear_model import LogisticRegression\n",
    "from sklearn.neighbors import KernelDensity\n",
    "from shapely.geometry import Point, Polygon\n",
    "import warnings \n",
    "warnings.filterwarnings('ignore')"
   ]
  },
  {
   "cell_type": "markdown",
   "id": "34f505de",
   "metadata": {},
   "source": [
    "Loading given datasets in the python cell"
   ]
  },
  {
   "cell_type": "code",
   "execution_count": 155,
   "id": "5c47eda5",
   "metadata": {},
   "outputs": [],
   "source": [
    "#load  the date\n",
    "train = pd.read_csv(\"train.csv\")\n",
    "test = pd.read_csv(\"test.csv\")\n",
    "weather = pd.read_csv(\"weather.csv\")\n",
    "spray = pd.read_csv(\"spray.csv\")\n"
   ]
  },
  {
   "cell_type": "markdown",
   "id": "2856eb35",
   "metadata": {},
   "source": [
    "Analysis of train data"
   ]
  },
  {
   "cell_type": "code",
   "execution_count": 156,
   "id": "b4ecae01",
   "metadata": {},
   "outputs": [
    {
     "data": {
      "text/html": [
       "<div>\n",
       "<style scoped>\n",
       "    .dataframe tbody tr th:only-of-type {\n",
       "        vertical-align: middle;\n",
       "    }\n",
       "\n",
       "    .dataframe tbody tr th {\n",
       "        vertical-align: top;\n",
       "    }\n",
       "\n",
       "    .dataframe thead th {\n",
       "        text-align: right;\n",
       "    }\n",
       "</style>\n",
       "<table border=\"1\" class=\"dataframe\">\n",
       "  <thead>\n",
       "    <tr style=\"text-align: right;\">\n",
       "      <th></th>\n",
       "      <th>Date</th>\n",
       "      <th>Address</th>\n",
       "      <th>Species</th>\n",
       "      <th>Block</th>\n",
       "      <th>Street</th>\n",
       "      <th>Trap</th>\n",
       "      <th>AddressNumberAndStreet</th>\n",
       "      <th>Latitude</th>\n",
       "      <th>Longitude</th>\n",
       "      <th>AddressAccuracy</th>\n",
       "      <th>NumMosquitos</th>\n",
       "      <th>WnvPresent</th>\n",
       "    </tr>\n",
       "  </thead>\n",
       "  <tbody>\n",
       "    <tr>\n",
       "      <th>0</th>\n",
       "      <td>5/29/2007</td>\n",
       "      <td>4100 North Oak Park Avenue, Chicago, IL 60634,...</td>\n",
       "      <td>CULEX PIPIENS/RESTUANS</td>\n",
       "      <td>41</td>\n",
       "      <td>N OAK PARK AVE</td>\n",
       "      <td>T002</td>\n",
       "      <td>4100  N OAK PARK AVE, Chicago, IL</td>\n",
       "      <td>41.954690</td>\n",
       "      <td>-87.800991</td>\n",
       "      <td>9</td>\n",
       "      <td>1</td>\n",
       "      <td>0</td>\n",
       "    </tr>\n",
       "    <tr>\n",
       "      <th>1</th>\n",
       "      <td>5/29/2007</td>\n",
       "      <td>4100 North Oak Park Avenue, Chicago, IL 60634,...</td>\n",
       "      <td>CULEX RESTUANS</td>\n",
       "      <td>41</td>\n",
       "      <td>N OAK PARK AVE</td>\n",
       "      <td>T002</td>\n",
       "      <td>4100  N OAK PARK AVE, Chicago, IL</td>\n",
       "      <td>41.954690</td>\n",
       "      <td>-87.800991</td>\n",
       "      <td>9</td>\n",
       "      <td>1</td>\n",
       "      <td>0</td>\n",
       "    </tr>\n",
       "    <tr>\n",
       "      <th>2</th>\n",
       "      <td>5/29/2007</td>\n",
       "      <td>6200 North Mandell Avenue, Chicago, IL 60646, USA</td>\n",
       "      <td>CULEX RESTUANS</td>\n",
       "      <td>62</td>\n",
       "      <td>N MANDELL AVE</td>\n",
       "      <td>T007</td>\n",
       "      <td>6200  N MANDELL AVE, Chicago, IL</td>\n",
       "      <td>41.994991</td>\n",
       "      <td>-87.769279</td>\n",
       "      <td>9</td>\n",
       "      <td>1</td>\n",
       "      <td>0</td>\n",
       "    </tr>\n",
       "    <tr>\n",
       "      <th>3</th>\n",
       "      <td>5/29/2007</td>\n",
       "      <td>7900 West Foster Avenue, Chicago, IL 60656, USA</td>\n",
       "      <td>CULEX PIPIENS/RESTUANS</td>\n",
       "      <td>79</td>\n",
       "      <td>W FOSTER AVE</td>\n",
       "      <td>T015</td>\n",
       "      <td>7900  W FOSTER AVE, Chicago, IL</td>\n",
       "      <td>41.974089</td>\n",
       "      <td>-87.824812</td>\n",
       "      <td>8</td>\n",
       "      <td>1</td>\n",
       "      <td>0</td>\n",
       "    </tr>\n",
       "    <tr>\n",
       "      <th>4</th>\n",
       "      <td>5/29/2007</td>\n",
       "      <td>7900 West Foster Avenue, Chicago, IL 60656, USA</td>\n",
       "      <td>CULEX RESTUANS</td>\n",
       "      <td>79</td>\n",
       "      <td>W FOSTER AVE</td>\n",
       "      <td>T015</td>\n",
       "      <td>7900  W FOSTER AVE, Chicago, IL</td>\n",
       "      <td>41.974089</td>\n",
       "      <td>-87.824812</td>\n",
       "      <td>8</td>\n",
       "      <td>4</td>\n",
       "      <td>0</td>\n",
       "    </tr>\n",
       "  </tbody>\n",
       "</table>\n",
       "</div>"
      ],
      "text/plain": [
       "        Date                                            Address  \\\n",
       "0  5/29/2007  4100 North Oak Park Avenue, Chicago, IL 60634,...   \n",
       "1  5/29/2007  4100 North Oak Park Avenue, Chicago, IL 60634,...   \n",
       "2  5/29/2007  6200 North Mandell Avenue, Chicago, IL 60646, USA   \n",
       "3  5/29/2007    7900 West Foster Avenue, Chicago, IL 60656, USA   \n",
       "4  5/29/2007    7900 West Foster Avenue, Chicago, IL 60656, USA   \n",
       "\n",
       "                  Species  Block           Street  Trap  \\\n",
       "0  CULEX PIPIENS/RESTUANS     41   N OAK PARK AVE  T002   \n",
       "1          CULEX RESTUANS     41   N OAK PARK AVE  T002   \n",
       "2          CULEX RESTUANS     62    N MANDELL AVE  T007   \n",
       "3  CULEX PIPIENS/RESTUANS     79     W FOSTER AVE  T015   \n",
       "4          CULEX RESTUANS     79     W FOSTER AVE  T015   \n",
       "\n",
       "              AddressNumberAndStreet   Latitude  Longitude  AddressAccuracy  \\\n",
       "0  4100  N OAK PARK AVE, Chicago, IL  41.954690 -87.800991                9   \n",
       "1  4100  N OAK PARK AVE, Chicago, IL  41.954690 -87.800991                9   \n",
       "2   6200  N MANDELL AVE, Chicago, IL  41.994991 -87.769279                9   \n",
       "3    7900  W FOSTER AVE, Chicago, IL  41.974089 -87.824812                8   \n",
       "4    7900  W FOSTER AVE, Chicago, IL  41.974089 -87.824812                8   \n",
       "\n",
       "   NumMosquitos  WnvPresent  \n",
       "0             1           0  \n",
       "1             1           0  \n",
       "2             1           0  \n",
       "3             1           0  \n",
       "4             4           0  "
      ]
     },
     "execution_count": 156,
     "metadata": {},
     "output_type": "execute_result"
    }
   ],
   "source": [
    "train.head(5)"
   ]
  },
  {
   "cell_type": "code",
   "execution_count": 157,
   "id": "f0225a40",
   "metadata": {},
   "outputs": [
    {
     "data": {
      "text/plain": [
       "(10506, 12)"
      ]
     },
     "execution_count": 157,
     "metadata": {},
     "output_type": "execute_result"
    }
   ],
   "source": [
    "#rows and cloumns in the training dataset\n",
    "train.shape"
   ]
  },
  {
   "cell_type": "code",
   "execution_count": 158,
   "id": "51b86959",
   "metadata": {},
   "outputs": [
    {
     "data": {
      "text/plain": [
       "<bound method DataFrame.info of             Date                                            Address  \\\n",
       "0      5/29/2007  4100 North Oak Park Avenue, Chicago, IL 60634,...   \n",
       "1      5/29/2007  4100 North Oak Park Avenue, Chicago, IL 60634,...   \n",
       "2      5/29/2007  6200 North Mandell Avenue, Chicago, IL 60646, USA   \n",
       "3      5/29/2007    7900 West Foster Avenue, Chicago, IL 60656, USA   \n",
       "4      5/29/2007    7900 West Foster Avenue, Chicago, IL 60656, USA   \n",
       "...          ...                                                ...   \n",
       "10501  9/26/2013      5100 West 72nd Street, Chicago, IL 60638, USA   \n",
       "10502  9/26/2013    5800 North Ridge Avenue, Chicago, IL 60660, USA   \n",
       "10503  9/26/2013  1700 North Ashland Avenue, Chicago, IL 60622, USA   \n",
       "10504  9/26/2013   7100 North Harlem Avenue, Chicago, IL 60631, USA   \n",
       "10505  9/26/2013      4200 West 65th Street, Chicago, IL 60621, USA   \n",
       "\n",
       "                      Species  Block           Street  Trap  \\\n",
       "0      CULEX PIPIENS/RESTUANS     41   N OAK PARK AVE  T002   \n",
       "1              CULEX RESTUANS     41   N OAK PARK AVE  T002   \n",
       "2              CULEX RESTUANS     62    N MANDELL AVE  T007   \n",
       "3      CULEX PIPIENS/RESTUANS     79     W FOSTER AVE  T015   \n",
       "4              CULEX RESTUANS     79     W FOSTER AVE  T015   \n",
       "...                       ...    ...              ...   ...   \n",
       "10501  CULEX PIPIENS/RESTUANS     51        W 72ND ST  T035   \n",
       "10502  CULEX PIPIENS/RESTUANS     58      N RIDGE AVE  T231   \n",
       "10503  CULEX PIPIENS/RESTUANS     17    N ASHLAND AVE  T232   \n",
       "10504  CULEX PIPIENS/RESTUANS     71     N HARLEM AVE  T233   \n",
       "10505  CULEX PIPIENS/RESTUANS     42        W 65TH ST  T235   \n",
       "\n",
       "                  AddressNumberAndStreet   Latitude  Longitude  \\\n",
       "0      4100  N OAK PARK AVE, Chicago, IL  41.954690 -87.800991   \n",
       "1      4100  N OAK PARK AVE, Chicago, IL  41.954690 -87.800991   \n",
       "2       6200  N MANDELL AVE, Chicago, IL  41.994991 -87.769279   \n",
       "3        7900  W FOSTER AVE, Chicago, IL  41.974089 -87.824812   \n",
       "4        7900  W FOSTER AVE, Chicago, IL  41.974089 -87.824812   \n",
       "...                                  ...        ...        ...   \n",
       "10501       5100  W 72ND ST, Chicago, IL  41.763733 -87.742302   \n",
       "10502     5800  N RIDGE AVE, Chicago, IL  41.987280 -87.666066   \n",
       "10503   1700  N ASHLAND AVE, Chicago, IL  41.912563 -87.668055   \n",
       "10504    7100  N HARLEM AVE, Chicago, IL  42.009876 -87.807277   \n",
       "10505       4200  W 65TH ST, Chicago, IL  41.776428 -87.627096   \n",
       "\n",
       "       AddressAccuracy  NumMosquitos  WnvPresent  \n",
       "0                    9             1           0  \n",
       "1                    9             1           0  \n",
       "2                    9             1           0  \n",
       "3                    8             1           0  \n",
       "4                    8             4           0  \n",
       "...                ...           ...         ...  \n",
       "10501                8             6           1  \n",
       "10502                8             5           0  \n",
       "10503                9             1           0  \n",
       "10504                9             5           0  \n",
       "10505                8             1           0  \n",
       "\n",
       "[10506 rows x 12 columns]>"
      ]
     },
     "execution_count": 158,
     "metadata": {},
     "output_type": "execute_result"
    }
   ],
   "source": [
    "train.info"
   ]
  },
  {
   "cell_type": "code",
   "execution_count": 159,
   "id": "f9486b63",
   "metadata": {},
   "outputs": [
    {
     "data": {
      "text/plain": [
       "Date                      0\n",
       "Address                   0\n",
       "Species                   0\n",
       "Block                     0\n",
       "Street                    0\n",
       "Trap                      0\n",
       "AddressNumberAndStreet    0\n",
       "Latitude                  0\n",
       "Longitude                 0\n",
       "AddressAccuracy           0\n",
       "NumMosquitos              0\n",
       "WnvPresent                0\n",
       "dtype: int64"
      ]
     },
     "execution_count": 159,
     "metadata": {},
     "output_type": "execute_result"
    }
   ],
   "source": [
    "#do we have any null values in the dataset?\n",
    "train.isnull().sum(axis=0)"
   ]
  },
  {
   "cell_type": "code",
   "execution_count": 160,
   "id": "86f70be8",
   "metadata": {},
   "outputs": [
    {
     "data": {
      "text/plain": [
       "0   2007-05-29\n",
       "Name: Date, dtype: datetime64[ns]"
      ]
     },
     "metadata": {},
     "output_type": "display_data"
    }
   ],
   "source": [
    "#change datecolumn to datetime\n",
    "train['Date'] = pd.to_datetime(train['Date'])\n",
    "display(train.Date.sort_values().head(1))"
   ]
  },
  {
   "cell_type": "markdown",
   "id": "0e33de4a",
   "metadata": {},
   "source": [
    "How often does city of Chicago count the mosquiotes?"
   ]
  },
  {
   "cell_type": "code",
   "execution_count": 161,
   "id": "cafca4f5",
   "metadata": {},
   "outputs": [
    {
     "name": "stdout",
     "output_type": "stream",
     "text": [
      "[2007 2009 2011 2013]\n",
      "[ 5  6  7  8  9 10]\n",
      "[29  5 26  2 11 18 19 25 27  1  3  7  8  9 15 16 17 21 22 24 28  4  6 12\n",
      " 10 13 31 14 30 23]\n",
      "95\n"
     ]
    }
   ],
   "source": [
    "print(train['Date'].dt.year.unique())\n",
    "print(train['Date'].dt.month.unique())\n",
    "print(train['Date'].dt.day.unique())\n",
    "print (len(train.Date.unique()))"
   ]
  },
  {
   "cell_type": "markdown",
   "id": "53b4fbe4",
   "metadata": {},
   "source": [
    "From the above data we can see that the city of Chicago conducted the srvey on every 2 month from 2007 to 2013. It also shows that the surveys were mostly done between the month of may and october for 95 days."
   ]
  },
  {
   "cell_type": "code",
   "execution_count": 162,
   "id": "a38a8820",
   "metadata": {},
   "outputs": [
    {
     "name": "stdout",
     "output_type": "stream",
     "text": [
      "Object `sample` not found.\n"
     ]
    }
   ],
   "source": [
    "In how many unique location did the city of Chicago collect the sample?"
   ]
  },
  {
   "cell_type": "code",
   "execution_count": null,
   "id": "f7fb162c",
   "metadata": {},
   "outputs": [],
   "source": [
    "In how many unique location did the city of Chicago collect the sample"
   ]
  },
  {
   "cell_type": "code",
   "execution_count": 163,
   "id": "3d67dde5",
   "metadata": {},
   "outputs": [
    {
     "name": "stdout",
     "output_type": "stream",
     "text": [
      "138\n"
     ]
    },
    {
     "data": {
      "text/plain": [
       "ORD Terminal 5, O'Hare International Airport, Chicago, IL 60666, USA    750\n",
       "South Doty Avenue, Chicago, IL, USA                                     542\n",
       "South Stony Island Avenue, Chicago, IL, USA                             314\n",
       "4100 North Oak Park Avenue, Chicago, IL 60634, USA                      185\n",
       "4200 West 127th Street, Alsip, IL 60803, USA                            183\n",
       "Name: Address, dtype: int64"
      ]
     },
     "execution_count": 163,
     "metadata": {},
     "output_type": "execute_result"
    }
   ],
   "source": [
    "#dictinct address\n",
    "print(len(train.Address.unique()))\n",
    "train.Address.value_counts().head()\n"
   ]
  },
  {
   "cell_type": "code",
   "execution_count": 164,
   "id": "5b079003",
   "metadata": {},
   "outputs": [
    {
     "data": {
      "text/plain": [
       "136"
      ]
     },
     "execution_count": 164,
     "metadata": {},
     "output_type": "execute_result"
    }
   ],
   "source": [
    "len(train.Trap.unique())"
   ]
  },
  {
   "cell_type": "markdown",
   "id": "d3d76716",
   "metadata": {},
   "source": [
    "Mosquiotoes samples were collected from 136 unique areas in the city."
   ]
  },
  {
   "cell_type": "code",
   "execution_count": 166,
   "id": "974e3d20",
   "metadata": {},
   "outputs": [
    {
     "data": {
      "text/plain": [
       "T900    750\n",
       "T115    542\n",
       "T138    314\n",
       "T002    185\n",
       "T135    183\n",
       "Name: Trap, dtype: int64"
      ]
     },
     "execution_count": 166,
     "metadata": {},
     "output_type": "execute_result"
    }
   ],
   "source": [
    "#trap id value counts\n",
    "train.Trap.value_counts().head()"
   ]
  },
  {
   "cell_type": "markdown",
   "id": "736bf693",
   "metadata": {},
   "source": [
    "problem?\n",
    "We have 138 unique locations and only 136 trap ids. We need to figure out if a single trap id has more than 1 location.\n"
   ]
  },
  {
   "cell_type": "code",
   "execution_count": 167,
   "id": "ea215223",
   "metadata": {},
   "outputs": [
    {
     "data": {
      "text/plain": [
       "Trap\n",
       "T009    2\n",
       "T035    2\n",
       "Name: Address, dtype: int64"
      ]
     },
     "execution_count": 167,
     "metadata": {},
     "output_type": "execute_result"
    }
   ],
   "source": [
    "Trap_address=train.groupby('Trap')['Address'].nunique()\n",
    "Trap_address[Trap_address>1]"
   ]
  },
  {
   "cell_type": "markdown",
   "id": "3ca58e45",
   "metadata": {},
   "source": [
    "As we can see the trap id T009 and T005 have 2 different locations. We need to find out what are they?"
   ]
  },
  {
   "cell_type": "code",
   "execution_count": 168,
   "id": "1aa3a380",
   "metadata": {},
   "outputs": [
    {
     "data": {
      "text/plain": [
       "array(['9100 West Higgins Avenue, Chicago, IL 60656, USA',\n",
       "       '9100 West Higgins Road, Rosemont, IL 60018, USA'], dtype=object)"
      ]
     },
     "execution_count": 168,
     "metadata": {},
     "output_type": "execute_result"
    }
   ],
   "source": [
    "train[train.Trap=='T009'].Address.unique()"
   ]
  },
  {
   "cell_type": "code",
   "execution_count": 169,
   "id": "fb7079c3",
   "metadata": {},
   "outputs": [
    {
     "data": {
      "text/plain": [
       "array(['6000 West Roscoe Street, Chicago, IL 60634, USA'], dtype=object)"
      ]
     },
     "execution_count": 169,
     "metadata": {},
     "output_type": "execute_result"
    }
   ],
   "source": [
    "train[train.Trap=='T005'].Address.unique()"
   ]
  },
  {
   "cell_type": "code",
   "execution_count": 170,
   "id": "008c8c53",
   "metadata": {},
   "outputs": [
    {
     "name": "stdout",
     "output_type": "stream",
     "text": [
      "128\n"
     ]
    }
   ],
   "source": [
    "#distinct street\n",
    "print(len(train.Street.unique()))"
   ]
  },
  {
   "cell_type": "code",
   "execution_count": 171,
   "id": "9423d6f7",
   "metadata": {},
   "outputs": [
    {
     "data": {
      "text/plain": [
       " W OHARE AIRPORT       750\n",
       " S DOTY AVE            542\n",
       " S STONY ISLAND AVE    347\n",
       " S ASHLAND AVE         266\n",
       " N OAK PARK AVE        216\n",
       "Name: Street, dtype: int64"
      ]
     },
     "execution_count": 171,
     "metadata": {},
     "output_type": "execute_result"
    }
   ],
   "source": [
    "train.Street.value_counts().head()"
   ]
  },
  {
   "cell_type": "markdown",
   "id": "e114091e",
   "metadata": {},
   "source": [
    "Checking whether WNV is present or not"
   ]
  },
  {
   "cell_type": "code",
   "execution_count": 172,
   "id": "86088942",
   "metadata": {},
   "outputs": [
    {
     "data": {
      "text/plain": [
       "0    9955\n",
       "1     551\n",
       "Name: WnvPresent, dtype: int64"
      ]
     },
     "metadata": {},
     "output_type": "display_data"
    }
   ],
   "source": [
    "display(train.WnvPresent.value_counts())"
   ]
  },
  {
   "cell_type": "markdown",
   "id": "9bfdcb33",
   "metadata": {},
   "source": [
    "How many species of mosquitos are present in the survey?"
   ]
  },
  {
   "cell_type": "code",
   "execution_count": 173,
   "id": "24bebb55",
   "metadata": {},
   "outputs": [
    {
     "data": {
      "text/plain": [
       "7"
      ]
     },
     "execution_count": 173,
     "metadata": {},
     "output_type": "execute_result"
    }
   ],
   "source": [
    "len(train.Species.unique())"
   ]
  },
  {
   "cell_type": "markdown",
   "id": "7dc42cec",
   "metadata": {},
   "source": [
    "There are altogether 7 species present in the survey."
   ]
  },
  {
   "cell_type": "markdown",
   "id": "aac4a93a",
   "metadata": {},
   "source": [
    "Count the value of each species."
   ]
  },
  {
   "cell_type": "code",
   "execution_count": 174,
   "id": "311a5ed4",
   "metadata": {},
   "outputs": [
    {
     "data": {
      "text/plain": [
       "CULEX PIPIENS/RESTUANS    4752\n",
       "CULEX RESTUANS            2740\n",
       "CULEX PIPIENS             2699\n",
       "CULEX TERRITANS            222\n",
       "CULEX SALINARIUS            86\n",
       "CULEX TARSALIS               6\n",
       "CULEX ERRATICUS              1\n",
       "Name: Species, dtype: int64"
      ]
     },
     "execution_count": 174,
     "metadata": {},
     "output_type": "execute_result"
    }
   ],
   "source": [
    "train.Species.value_counts()"
   ]
  },
  {
   "cell_type": "markdown",
   "id": "afa8c530",
   "metadata": {},
   "source": [
    "Find the percent of each species in the sample collected by the city of chicago."
   ]
  },
  {
   "cell_type": "code",
   "execution_count": 175,
   "id": "3dc2b17b",
   "metadata": {
    "scrolled": true
   },
   "outputs": [
    {
     "data": {
      "text/html": [
       "<div>\n",
       "<style scoped>\n",
       "    .dataframe tbody tr th:only-of-type {\n",
       "        vertical-align: middle;\n",
       "    }\n",
       "\n",
       "    .dataframe tbody tr th {\n",
       "        vertical-align: top;\n",
       "    }\n",
       "\n",
       "    .dataframe thead th {\n",
       "        text-align: right;\n",
       "    }\n",
       "</style>\n",
       "<table border=\"1\" class=\"dataframe\">\n",
       "  <thead>\n",
       "    <tr style=\"text-align: right;\">\n",
       "      <th></th>\n",
       "      <th>Species</th>\n",
       "      <th>Sample</th>\n",
       "      <th>Wnv_sample</th>\n",
       "      <th>Wnv_percent</th>\n",
       "    </tr>\n",
       "  </thead>\n",
       "  <tbody>\n",
       "    <tr>\n",
       "      <th>2</th>\n",
       "      <td>CULEX PIPIENS</td>\n",
       "      <td>2699</td>\n",
       "      <td>240</td>\n",
       "      <td>8.892182</td>\n",
       "    </tr>\n",
       "    <tr>\n",
       "      <th>0</th>\n",
       "      <td>CULEX PIPIENS/RESTUANS</td>\n",
       "      <td>4752</td>\n",
       "      <td>262</td>\n",
       "      <td>5.513468</td>\n",
       "    </tr>\n",
       "    <tr>\n",
       "      <th>1</th>\n",
       "      <td>CULEX RESTUANS</td>\n",
       "      <td>2740</td>\n",
       "      <td>49</td>\n",
       "      <td>1.788321</td>\n",
       "    </tr>\n",
       "    <tr>\n",
       "      <th>3</th>\n",
       "      <td>CULEX TERRITANS</td>\n",
       "      <td>222</td>\n",
       "      <td>0</td>\n",
       "      <td>0.000000</td>\n",
       "    </tr>\n",
       "    <tr>\n",
       "      <th>4</th>\n",
       "      <td>CULEX SALINARIUS</td>\n",
       "      <td>86</td>\n",
       "      <td>0</td>\n",
       "      <td>0.000000</td>\n",
       "    </tr>\n",
       "    <tr>\n",
       "      <th>5</th>\n",
       "      <td>CULEX TARSALIS</td>\n",
       "      <td>6</td>\n",
       "      <td>0</td>\n",
       "      <td>0.000000</td>\n",
       "    </tr>\n",
       "    <tr>\n",
       "      <th>6</th>\n",
       "      <td>CULEX ERRATICUS</td>\n",
       "      <td>1</td>\n",
       "      <td>0</td>\n",
       "      <td>0.000000</td>\n",
       "    </tr>\n",
       "  </tbody>\n",
       "</table>\n",
       "</div>"
      ],
      "text/plain": [
       "                  Species  Sample  Wnv_sample  Wnv_percent\n",
       "2           CULEX PIPIENS    2699         240     8.892182\n",
       "0  CULEX PIPIENS/RESTUANS    4752         262     5.513468\n",
       "1          CULEX RESTUANS    2740          49     1.788321\n",
       "3         CULEX TERRITANS     222           0     0.000000\n",
       "4        CULEX SALINARIUS      86           0     0.000000\n",
       "5          CULEX TARSALIS       6           0     0.000000\n",
       "6         CULEX ERRATICUS       1           0     0.000000"
      ]
     },
     "execution_count": 175,
     "metadata": {},
     "output_type": "execute_result"
    }
   ],
   "source": [
    "Species_count = train.Species.value_counts()\n",
    "Species_wnv = train.groupby('Species')['WnvPresent'].sum().sort_values(ascending = False)\n",
    "Species_count = Species_count.to_frame().join(Species_wnv.to_frame())\n",
    "Species_count = Species_count.rename(columns = {'Species' : 'Sample', 'WnvPresent' : 'Wnv_sample'})\n",
    "Species_count ['Wnv_percent'] = Species_count.Wnv_sample*100/Species_count.Sample\n",
    "Species_count.reset_index(inplace = True)\n",
    "Species_count = Species_count.rename(columns = {'index': 'Species'})\n",
    "Species_count.sort_values(by = 'Wnv_percent', ascending = False)\n"
   ]
  },
  {
   "cell_type": "markdown",
   "id": "8fb29958",
   "metadata": {},
   "source": [
    "Among the 7 species of mosquitoes, 4 of them do not contain WNV virus on them. Whereas, out of thre infected samples CLUEX PIPIENS species are the most infected (around 9%) of the sample followed by CULEX PIPIENS/RESTUANS with around 5% of the sample. "
   ]
  },
  {
   "cell_type": "markdown",
   "id": "e512b4b2",
   "metadata": {},
   "source": [
    "Plot the Species by number and percent"
   ]
  },
  {
   "cell_type": "code",
   "execution_count": 176,
   "id": "4b5603d7",
   "metadata": {},
   "outputs": [
    {
     "ename": "TypeError",
     "evalue": "'str' object is not callable",
     "output_type": "error",
     "traceback": [
      "\u001b[1;31m---------------------------------------------------------------------------\u001b[0m",
      "\u001b[1;31mTypeError\u001b[0m                                 Traceback (most recent call last)",
      "\u001b[1;32m~\\AppData\\Local\\Temp/ipykernel_11308/2388946382.py\u001b[0m in \u001b[0;36m<module>\u001b[1;34m\u001b[0m\n\u001b[0;32m      1\u001b[0m \u001b[0mplt\u001b[0m\u001b[1;33m.\u001b[0m\u001b[0mfigure\u001b[0m\u001b[1;33m(\u001b[0m\u001b[0mfigsize\u001b[0m\u001b[1;33m=\u001b[0m\u001b[1;33m(\u001b[0m\u001b[1;36m10\u001b[0m\u001b[1;33m,\u001b[0m\u001b[1;36m10\u001b[0m\u001b[1;33m)\u001b[0m\u001b[1;33m)\u001b[0m\u001b[1;33m\u001b[0m\u001b[1;33m\u001b[0m\u001b[0m\n\u001b[0;32m      2\u001b[0m \u001b[0mplt\u001b[0m\u001b[1;33m.\u001b[0m\u001b[0mbarh\u001b[0m\u001b[1;33m(\u001b[0m\u001b[1;34m'Species'\u001b[0m\u001b[1;33m,\u001b[0m\u001b[1;34m'Wnv_percent'\u001b[0m\u001b[1;33m)\u001b[0m\u001b[1;33m\u001b[0m\u001b[1;33m\u001b[0m\u001b[0m\n\u001b[1;32m----> 3\u001b[1;33m \u001b[0mplt\u001b[0m\u001b[1;33m.\u001b[0m\u001b[0mtitle\u001b[0m\u001b[1;33m(\u001b[0m\u001b[1;34m\"Total percentage of WNV present in different species\"\u001b[0m\u001b[1;33m)\u001b[0m\u001b[1;33m\u001b[0m\u001b[1;33m\u001b[0m\u001b[0m\n\u001b[0m\u001b[0;32m      4\u001b[0m \u001b[0mplt\u001b[0m\u001b[1;33m.\u001b[0m\u001b[0mshow\u001b[0m\u001b[1;33m(\u001b[0m\u001b[1;33m)\u001b[0m\u001b[1;33m\u001b[0m\u001b[1;33m\u001b[0m\u001b[0m\n",
      "\u001b[1;31mTypeError\u001b[0m: 'str' object is not callable"
     ]
    },
    {
     "data": {
      "image/png": "[encoded data removed]",
      "text/plain": [
       "<Figure size 720x720 with 1 Axes>"
      ]
     },
     "metadata": {
      "needs_background": "light"
     },
     "output_type": "display_data"
    }
   ],
   "source": [
    "plt.figure(figsize=(10,10))\n",
    "plt.barh('Species','Wnv_percent')\n",
    "plt.title(\"Total percentage of WNV present in different species\")\n",
    "plt.show()\n"
   ]
  },
  {
   "cell_type": "code",
   "execution_count": null,
   "id": "77d075df",
   "metadata": {},
   "outputs": [],
   "source": []
  },
  {
   "cell_type": "code",
   "execution_count": 178,
   "id": "529e8113",
   "metadata": {},
   "outputs": [
    {
     "data": {
      "text/plain": [
       "0    0.947554\n",
       "1    0.052446\n",
       "Name: WnvPresent, dtype: float64"
      ]
     },
     "metadata": {},
     "output_type": "display_data"
    }
   ],
   "source": [
    "#WNV prazesent in percentage\n",
    "display(train.WnvPresent.value_counts()/ len(train.WnvPresent))"
   ]
  },
  {
   "cell_type": "code",
   "execution_count": 179,
   "id": "5d99925b",
   "metadata": {
    "scrolled": true
   },
   "outputs": [
    {
     "data": {
      "image/png": "[encoded data removed]",
      "text/plain": [
       "<Figure size 432x288 with 1 Axes>"
      ]
     },
     "metadata": {
      "needs_background": "light"
     },
     "output_type": "display_data"
    }
   ],
   "source": [
    "#plot\n",
    "fig,  ax = plt.subplots(1,1)\n",
    "sns.countplot(train['WnvPresent'], ax = ax)\n",
    "for i in ax.patches:\n",
    "    height = i.get_height()\n",
    "    ax.text(i.get_x()+i.get_width()/2,height,'{:.2f}{}'.format(height/len(train)*100,'%'))\n",
    "plt.show()"
   ]
  },
  {
   "cell_type": "code",
   "execution_count": null,
   "id": "62326c43",
   "metadata": {},
   "outputs": [],
   "source": []
  },
  {
   "cell_type": "code",
   "execution_count": 180,
   "id": "2a447ff9",
   "metadata": {},
   "outputs": [],
   "source": [
    "#train.value_counts()"
   ]
  },
  {
   "cell_type": "markdown",
   "id": "27fbe213",
   "metadata": {},
   "source": [
    "Find out the percentage of WNV present in sample mosquitos by area."
   ]
  },
  {
   "cell_type": "code",
   "execution_count": 181,
   "id": "aa3d78a3",
   "metadata": {},
   "outputs": [
    {
     "data": {
      "text/html": [
       "<div>\n",
       "<style scoped>\n",
       "    .dataframe tbody tr th:only-of-type {\n",
       "        vertical-align: middle;\n",
       "    }\n",
       "\n",
       "    .dataframe tbody tr th {\n",
       "        vertical-align: top;\n",
       "    }\n",
       "\n",
       "    .dataframe thead th {\n",
       "        text-align: right;\n",
       "    }\n",
       "</style>\n",
       "<table border=\"1\" class=\"dataframe\">\n",
       "  <thead>\n",
       "    <tr style=\"text-align: right;\">\n",
       "      <th></th>\n",
       "      <th>Sample</th>\n",
       "      <th>Wnv_sample</th>\n",
       "      <th>Wnv_percent</th>\n",
       "    </tr>\n",
       "  </thead>\n",
       "  <tbody>\n",
       "    <tr>\n",
       "      <th>6500 North Oak Park Avenue, Chicago, IL 60631, USA</th>\n",
       "      <td>31</td>\n",
       "      <td>6</td>\n",
       "      <td>19.354839</td>\n",
       "    </tr>\n",
       "    <tr>\n",
       "      <th>6000 North Avondale Avenue, Chicago, IL 60631, USA</th>\n",
       "      <td>24</td>\n",
       "      <td>4</td>\n",
       "      <td>16.666667</td>\n",
       "    </tr>\n",
       "    <tr>\n",
       "      <th>6000 West Roscoe Street, Chicago, IL 60634, USA</th>\n",
       "      <td>14</td>\n",
       "      <td>2</td>\n",
       "      <td>14.285714</td>\n",
       "    </tr>\n",
       "    <tr>\n",
       "      <th>7100 North Harlem Avenue, Chicago, IL 60631, USA</th>\n",
       "      <td>50</td>\n",
       "      <td>7</td>\n",
       "      <td>14.000000</td>\n",
       "    </tr>\n",
       "    <tr>\n",
       "      <th>6400 West Strong Street, Chicago, IL, USA</th>\n",
       "      <td>30</td>\n",
       "      <td>4</td>\n",
       "      <td>13.333333</td>\n",
       "    </tr>\n",
       "  </tbody>\n",
       "</table>\n",
       "</div>"
      ],
      "text/plain": [
       "                                                    Sample  Wnv_sample  \\\n",
       "6500 North Oak Park Avenue, Chicago, IL 60631, USA      31           6   \n",
       "6000 North Avondale Avenue, Chicago, IL 60631, USA      24           4   \n",
       "6000 West Roscoe Street, Chicago, IL 60634, USA         14           2   \n",
       "7100 North Harlem Avenue, Chicago, IL 60631, USA        50           7   \n",
       "6400 West Strong Street, Chicago, IL, USA               30           4   \n",
       "\n",
       "                                                    Wnv_percent  \n",
       "6500 North Oak Park Avenue, Chicago, IL 60631, USA    19.354839  \n",
       "6000 North Avondale Avenue, Chicago, IL 60631, USA    16.666667  \n",
       "6000 West Roscoe Street, Chicago, IL 60634, USA       14.285714  \n",
       "7100 North Harlem Avenue, Chicago, IL 60631, USA      14.000000  \n",
       "6400 West Strong Street, Chicago, IL, USA             13.333333  "
      ]
     },
     "execution_count": 181,
     "metadata": {},
     "output_type": "execute_result"
    }
   ],
   "source": [
    "#Computing percentage of wnv present in the moquitos counted at the given address \n",
    "Address_count=train.Address.value_counts()\n",
    "Address_wnv=train.groupby('Address')['WnvPresent'].sum().sort_values(ascending=True)\n",
    "Address_count=Address_count.to_frame().join(Address_wnv.to_frame())\n",
    "Address_count = Address_count.rename(columns={'Address': 'Sample', 'WnvPresent': 'Wnv_sample'})\n",
    "Address_count['Wnv_percent']=Address_count.Wnv_sample*100/Address_count.Sample\n",
    "Address_count.sort_values(by='Wnv_percent',ascending=False).head()"
   ]
  },
  {
   "cell_type": "markdown",
   "id": "54d6d290",
   "metadata": {},
   "source": [
    "From the above table we can see that mosquitos sample collected from 6500 North Oak Park Avenue area contains the highest percent of WNV (19.35%) followed by 6000 North Avondale Avenue which has 16.9% of WNV present in collected samples.        "
   ]
  },
  {
   "cell_type": "code",
   "execution_count": 182,
   "id": "58f07994",
   "metadata": {},
   "outputs": [
    {
     "data": {
      "image/png": "[encoded data removed]",
      "text/plain": [
       "<Figure size 720x720 with 1 Axes>"
      ]
     },
     "metadata": {
      "needs_background": "light"
     },
     "output_type": "display_data"
    }
   ],
   "source": [
    "Address_count.Wnv_percent.sort_values(ascending= False).head(5).plot(kind='barh', figsize=(10, 10),  color=['black', 'red', 'green', 'blue', 'cyan'] ,  title='Percentage of WNV present in samples from different locations of Chicago')\n",
    "plt.xlabel('Total  percent of WNV in sample')\n",
    "plt.ylabel('Location')\n",
    "plt.show()"
   ]
  },
  {
   "cell_type": "code",
   "execution_count": null,
   "id": "365d0c8e",
   "metadata": {},
   "outputs": [],
   "source": []
  },
  {
   "cell_type": "markdown",
   "id": "5f9a2a10",
   "metadata": {},
   "source": [
    "# Weather data"
   ]
  },
  {
   "cell_type": "code",
   "execution_count": 183,
   "id": "cee5fb69",
   "metadata": {},
   "outputs": [
    {
     "data": {
      "text/html": [
       "<div>\n",
       "<style scoped>\n",
       "    .dataframe tbody tr th:only-of-type {\n",
       "        vertical-align: middle;\n",
       "    }\n",
       "\n",
       "    .dataframe tbody tr th {\n",
       "        vertical-align: top;\n",
       "    }\n",
       "\n",
       "    .dataframe thead th {\n",
       "        text-align: right;\n",
       "    }\n",
       "</style>\n",
       "<table border=\"1\" class=\"dataframe\">\n",
       "  <thead>\n",
       "    <tr style=\"text-align: right;\">\n",
       "      <th></th>\n",
       "      <th>Station</th>\n",
       "      <th>Date</th>\n",
       "      <th>Tmax</th>\n",
       "      <th>Tmin</th>\n",
       "      <th>Tavg</th>\n",
       "      <th>Depart</th>\n",
       "      <th>DewPoint</th>\n",
       "      <th>WetBulb</th>\n",
       "      <th>Heat</th>\n",
       "      <th>Cool</th>\n",
       "      <th>...</th>\n",
       "      <th>CodeSum</th>\n",
       "      <th>Depth</th>\n",
       "      <th>Water1</th>\n",
       "      <th>SnowFall</th>\n",
       "      <th>PrecipTotal</th>\n",
       "      <th>StnPressure</th>\n",
       "      <th>SeaLevel</th>\n",
       "      <th>ResultSpeed</th>\n",
       "      <th>ResultDir</th>\n",
       "      <th>AvgSpeed</th>\n",
       "    </tr>\n",
       "  </thead>\n",
       "  <tbody>\n",
       "    <tr>\n",
       "      <th>0</th>\n",
       "      <td>1</td>\n",
       "      <td>5/1/2007</td>\n",
       "      <td>83</td>\n",
       "      <td>50</td>\n",
       "      <td>67</td>\n",
       "      <td>14</td>\n",
       "      <td>51</td>\n",
       "      <td>56</td>\n",
       "      <td>0</td>\n",
       "      <td>2</td>\n",
       "      <td>...</td>\n",
       "      <td></td>\n",
       "      <td>0</td>\n",
       "      <td>M</td>\n",
       "      <td>0</td>\n",
       "      <td>0</td>\n",
       "      <td>29.1</td>\n",
       "      <td>29.82</td>\n",
       "      <td>1.7</td>\n",
       "      <td>27</td>\n",
       "      <td>9.2</td>\n",
       "    </tr>\n",
       "    <tr>\n",
       "      <th>1</th>\n",
       "      <td>2</td>\n",
       "      <td>5/1/2007</td>\n",
       "      <td>84</td>\n",
       "      <td>52</td>\n",
       "      <td>68</td>\n",
       "      <td>M</td>\n",
       "      <td>51</td>\n",
       "      <td>57</td>\n",
       "      <td>0</td>\n",
       "      <td>3</td>\n",
       "      <td>...</td>\n",
       "      <td></td>\n",
       "      <td>M</td>\n",
       "      <td>M</td>\n",
       "      <td>M</td>\n",
       "      <td>0</td>\n",
       "      <td>29.18</td>\n",
       "      <td>29.82</td>\n",
       "      <td>2.7</td>\n",
       "      <td>25</td>\n",
       "      <td>9.6</td>\n",
       "    </tr>\n",
       "    <tr>\n",
       "      <th>2</th>\n",
       "      <td>1</td>\n",
       "      <td>5/2/2007</td>\n",
       "      <td>59</td>\n",
       "      <td>42</td>\n",
       "      <td>51</td>\n",
       "      <td>-3</td>\n",
       "      <td>42</td>\n",
       "      <td>47</td>\n",
       "      <td>14</td>\n",
       "      <td>0</td>\n",
       "      <td>...</td>\n",
       "      <td>BR</td>\n",
       "      <td>0</td>\n",
       "      <td>M</td>\n",
       "      <td>0</td>\n",
       "      <td>0</td>\n",
       "      <td>29.38</td>\n",
       "      <td>30.09</td>\n",
       "      <td>13.0</td>\n",
       "      <td>4</td>\n",
       "      <td>13.4</td>\n",
       "    </tr>\n",
       "    <tr>\n",
       "      <th>3</th>\n",
       "      <td>2</td>\n",
       "      <td>5/2/2007</td>\n",
       "      <td>60</td>\n",
       "      <td>43</td>\n",
       "      <td>52</td>\n",
       "      <td>M</td>\n",
       "      <td>42</td>\n",
       "      <td>47</td>\n",
       "      <td>13</td>\n",
       "      <td>0</td>\n",
       "      <td>...</td>\n",
       "      <td>BR HZ</td>\n",
       "      <td>M</td>\n",
       "      <td>M</td>\n",
       "      <td>M</td>\n",
       "      <td>0</td>\n",
       "      <td>29.44</td>\n",
       "      <td>30.08</td>\n",
       "      <td>13.3</td>\n",
       "      <td>2</td>\n",
       "      <td>13.4</td>\n",
       "    </tr>\n",
       "    <tr>\n",
       "      <th>4</th>\n",
       "      <td>1</td>\n",
       "      <td>5/3/2007</td>\n",
       "      <td>66</td>\n",
       "      <td>46</td>\n",
       "      <td>56</td>\n",
       "      <td>2</td>\n",
       "      <td>40</td>\n",
       "      <td>48</td>\n",
       "      <td>9</td>\n",
       "      <td>0</td>\n",
       "      <td>...</td>\n",
       "      <td></td>\n",
       "      <td>0</td>\n",
       "      <td>M</td>\n",
       "      <td>0</td>\n",
       "      <td>0</td>\n",
       "      <td>29.39</td>\n",
       "      <td>30.12</td>\n",
       "      <td>11.7</td>\n",
       "      <td>7</td>\n",
       "      <td>11.9</td>\n",
       "    </tr>\n",
       "  </tbody>\n",
       "</table>\n",
       "<p>5 rows × 22 columns</p>\n",
       "</div>"
      ],
      "text/plain": [
       "   Station      Date  Tmax  Tmin Tavg Depart  DewPoint WetBulb Heat Cool  ...  \\\n",
       "0        1  5/1/2007    83    50   67     14        51      56    0    2  ...   \n",
       "1        2  5/1/2007    84    52   68      M        51      57    0    3  ...   \n",
       "2        1  5/2/2007    59    42   51     -3        42      47   14    0  ...   \n",
       "3        2  5/2/2007    60    43   52      M        42      47   13    0  ...   \n",
       "4        1  5/3/2007    66    46   56      2        40      48    9    0  ...   \n",
       "\n",
       "  CodeSum Depth Water1 SnowFall PrecipTotal StnPressure SeaLevel ResultSpeed  \\\n",
       "0             0      M        0           0        29.1    29.82         1.7   \n",
       "1             M      M        M           0       29.18    29.82         2.7   \n",
       "2      BR     0      M        0           0       29.38    30.09        13.0   \n",
       "3   BR HZ     M      M        M           0       29.44    30.08        13.3   \n",
       "4             0      M        0           0       29.39    30.12        11.7   \n",
       "\n",
       "  ResultDir  AvgSpeed  \n",
       "0        27       9.2  \n",
       "1        25       9.6  \n",
       "2         4      13.4  \n",
       "3         2      13.4  \n",
       "4         7      11.9  \n",
       "\n",
       "[5 rows x 22 columns]"
      ]
     },
     "execution_count": 183,
     "metadata": {},
     "output_type": "execute_result"
    }
   ],
   "source": [
    "weather.head(5)"
   ]
  },
  {
   "cell_type": "code",
   "execution_count": 198,
   "id": "4db2cf30",
   "metadata": {},
   "outputs": [
    {
     "data": {
      "text/plain": [
       "Index(['Station', 'Date', 'Tmax', 'Tmin', 'Tavg', 'Depart', 'DewPoint',\n",
       "       'WetBulb', 'Heat', 'Cool', 'Sunrise', 'Sunset', 'CodeSum', 'Depth',\n",
       "       'Water1', 'SnowFall', 'PrecipTotal', 'StnPressure', 'SeaLevel',\n",
       "       'ResultSpeed', 'ResultDir', 'AvgSpeed'],\n",
       "      dtype='object')"
      ]
     },
     "execution_count": 198,
     "metadata": {},
     "output_type": "execute_result"
    }
   ],
   "source": [
    "weather.columns"
   ]
  },
  {
   "cell_type": "code",
   "execution_count": 187,
   "id": "1f0b19a1",
   "metadata": {},
   "outputs": [
    {
     "data": {
      "text/plain": [
       "Station        0\n",
       "Date           0\n",
       "Tmax           0\n",
       "Tmin           0\n",
       "Tavg           0\n",
       "Depart         0\n",
       "DewPoint       0\n",
       "WetBulb        0\n",
       "Heat           0\n",
       "Cool           0\n",
       "Sunrise        0\n",
       "Sunset         0\n",
       "CodeSum        0\n",
       "Depth          0\n",
       "Water1         0\n",
       "SnowFall       0\n",
       "PrecipTotal    0\n",
       "StnPressure    0\n",
       "SeaLevel       0\n",
       "ResultSpeed    0\n",
       "ResultDir      0\n",
       "AvgSpeed       0\n",
       "dtype: int64"
      ]
     },
     "execution_count": 187,
     "metadata": {},
     "output_type": "execute_result"
    }
   ],
   "source": [
    "#check the missing values\n",
    "weather.isnull().sum()"
   ]
  },
  {
   "cell_type": "code",
   "execution_count": 194,
   "id": "4b6932a9",
   "metadata": {},
   "outputs": [
    {
     "data": {
      "text/plain": [
       "Station        0\n",
       "Date           0\n",
       "Tmax           0\n",
       "Tmin           0\n",
       "Tavg           0\n",
       "Depart         0\n",
       "DewPoint       0\n",
       "WetBulb        0\n",
       "Heat           0\n",
       "Cool           0\n",
       "Sunrise        0\n",
       "Sunset         0\n",
       "CodeSum        0\n",
       "Depth          0\n",
       "Water1         0\n",
       "SnowFall       0\n",
       "PrecipTotal    0\n",
       "StnPressure    0\n",
       "SeaLevel       0\n",
       "ResultSpeed    0\n",
       "ResultDir      0\n",
       "AvgSpeed       0\n",
       "dtype: int64"
      ]
     },
     "execution_count": 194,
     "metadata": {},
     "output_type": "execute_result"
    }
   ],
   "source": [
    "weather.isin(['?']).sum(axis=0)"
   ]
  },
  {
   "cell_type": "code",
   "execution_count": 196,
   "id": "023390bc",
   "metadata": {},
   "outputs": [
    {
     "data": {
      "text/plain": [
       "Station           0\n",
       "Date              0\n",
       "Tmax              0\n",
       "Tmin              0\n",
       "Tavg              0\n",
       "Depart           74\n",
       "DewPoint          0\n",
       "WetBulb           0\n",
       "Heat           1870\n",
       "Cool           1147\n",
       "Sunrise           0\n",
       "Sunset            0\n",
       "CodeSum           0\n",
       "Depth          1472\n",
       "Water1            0\n",
       "SnowFall       1459\n",
       "PrecipTotal    1577\n",
       "StnPressure       0\n",
       "SeaLevel          0\n",
       "ResultSpeed       0\n",
       "ResultDir         0\n",
       "AvgSpeed          0\n",
       "dtype: int64"
      ]
     },
     "execution_count": 196,
     "metadata": {},
     "output_type": "execute_result"
    }
   ],
   "source": [
    "weather.isin(['0']).sum()"
   ]
  },
  {
   "cell_type": "code",
   "execution_count": 197,
   "id": "b09ca6fc",
   "metadata": {},
   "outputs": [
    {
     "name": "stdout",
     "output_type": "stream",
     "text": [
      "<class 'pandas.core.frame.DataFrame'>\n",
      "RangeIndex: 2944 entries, 0 to 2943\n",
      "Data columns (total 22 columns):\n",
      " #   Column       Non-Null Count  Dtype  \n",
      "---  ------       --------------  -----  \n",
      " 0   Station      2944 non-null   int64  \n",
      " 1   Date         2944 non-null   object \n",
      " 2   Tmax         2944 non-null   int64  \n",
      " 3   Tmin         2944 non-null   int64  \n",
      " 4   Tavg         2944 non-null   object \n",
      " 5   Depart       2944 non-null   object \n",
      " 6   DewPoint     2944 non-null   int64  \n",
      " 7   WetBulb      2944 non-null   object \n",
      " 8   Heat         2944 non-null   object \n",
      " 9   Cool         2944 non-null   object \n",
      " 10  Sunrise      2944 non-null   object \n",
      " 11  Sunset       2944 non-null   object \n",
      " 12  CodeSum      2944 non-null   object \n",
      " 13  Depth        2944 non-null   object \n",
      " 14  Water1       2944 non-null   object \n",
      " 15  SnowFall     2944 non-null   object \n",
      " 16  PrecipTotal  2944 non-null   object \n",
      " 17  StnPressure  2944 non-null   object \n",
      " 18  SeaLevel     2944 non-null   object \n",
      " 19  ResultSpeed  2944 non-null   float64\n",
      " 20  ResultDir    2944 non-null   int64  \n",
      " 21  AvgSpeed     2944 non-null   object \n",
      "dtypes: float64(1), int64(5), object(16)\n",
      "memory usage: 506.1+ KB\n"
     ]
    }
   ],
   "source": [
    "weather.info()"
   ]
  },
  {
   "cell_type": "code",
   "execution_count": null,
   "id": "32c22a60",
   "metadata": {},
   "outputs": [],
   "source": []
  },
  {
   "cell_type": "code",
   "execution_count": null,
   "id": "7aae1f7e",
   "metadata": {},
   "outputs": [],
   "source": []
  },
  {
   "cell_type": "code",
   "execution_count": null,
   "id": "cc671dbf",
   "metadata": {},
   "outputs": [],
   "source": []
  },
  {
   "cell_type": "code",
   "execution_count": null,
   "id": "7498360c",
   "metadata": {},
   "outputs": [],
   "source": []
  },
  {
   "cell_type": "code",
   "execution_count": null,
   "id": "59998f72",
   "metadata": {},
   "outputs": [],
   "source": []
  },
  {
   "cell_type": "code",
   "execution_count": null,
   "id": "d6b9cfb4",
   "metadata": {},
   "outputs": [],
   "source": []
  },
  {
   "cell_type": "code",
   "execution_count": null,
   "id": "e8ba90bc",
   "metadata": {},
   "outputs": [],
   "source": []
  },
  {
   "cell_type": "code",
   "execution_count": null,
   "id": "afd86dae",
   "metadata": {},
   "outputs": [],
   "source": []
  },
  {
   "cell_type": "code",
   "execution_count": null,
   "id": "26aff53c",
   "metadata": {},
   "outputs": [],
   "source": []
  },
  {
   "cell_type": "code",
   "execution_count": null,
   "id": "acabada5",
   "metadata": {},
   "outputs": [],
   "source": []
  },
  {
   "cell_type": "code",
   "execution_count": null,
   "id": "07fd5885",
   "metadata": {},
   "outputs": [],
   "source": []
  },
  {
   "cell_type": "code",
   "execution_count": null,
   "id": "954b1261",
   "metadata": {},
   "outputs": [],
   "source": []
  },
  {
   "cell_type": "code",
   "execution_count": null,
   "id": "d700b114",
   "metadata": {},
   "outputs": [],
   "source": []
  },
  {
   "cell_type": "code",
   "execution_count": null,
   "id": "ce2a4315",
   "metadata": {},
   "outputs": [],
   "source": []
  },
  {
   "cell_type": "code",
   "execution_count": null,
   "id": "dce28bf4",
   "metadata": {},
   "outputs": [],
   "source": []
  }
 ],
 "metadata": {
  "kernelspec": {
   "display_name": "Python 3 (ipykernel)",
   "language": "python",
   "name": "python3"
  },
  "language_info": {
   "codemirror_mode": {
    "name": "ipython",
    "version": 3
   },
   "file_extension": ".py",
   "mimetype": "text/x-python",
   "name": "python",
   "nbconvert_exporter": "python",
   "pygments_lexer": "ipython3",
   "version": "3.9.7"
  }
 },
 "nbformat": 4,
 "nbformat_minor": 5
}
